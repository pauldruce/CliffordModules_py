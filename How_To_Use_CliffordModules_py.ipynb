{
 "cells": [
  {
   "cell_type": "code",
   "execution_count": 1,
   "metadata": {},
   "outputs": [
    {
     "name": "stdout",
     "output_type": "stream",
     "text": [
      "[NbConvertApp] Converting notebook CliffordAlgebras.ipynb to script\n",
      "[NbConvertApp] Writing 14361 bytes to CliffordAlgebras.py\n",
      "Populating the interactive namespace from numpy and matplotlib\n"
     ]
    }
   ],
   "source": [
    "from CliffordAlgebras import Clifford\n",
    "from pprint import pprint\n",
    "import numpy as np"
   ]
  },
  {
   "cell_type": "code",
   "execution_count": 2,
   "metadata": {},
   "outputs": [
    {
     "name": "stdout",
     "output_type": "stream",
     "text": [
      "My type is: (1,3)\n",
      "\n",
      "My matrices will be 4x4, and I have K0 dimension s = 2\n",
      "The generators are:\n",
      "Gamma_0 = \n",
      "[[ 0.+0.j  0.+0.j  1.+0.j  0.+0.j]\n",
      " [ 0.+0.j -0.+0.j  0.+0.j -1.+0.j]\n",
      " [ 1.+0.j  0.+0.j  0.+0.j  0.+0.j]\n",
      " [ 0.+0.j -1.+0.j  0.+0.j -0.+0.j]]\n",
      "Gamma_1 = \n",
      "[[0.+1.j 0.+0.j 0.+0.j 0.+0.j]\n",
      " [0.+0.j 0.+1.j 0.+0.j 0.+0.j]\n",
      " [0.+0.j 0.+0.j 0.-1.j 0.+0.j]\n",
      " [0.+0.j 0.+0.j 0.+0.j 0.-1.j]]\n",
      "Gamma_2 = \n",
      "[[ 0.+0.j  0.+0.j  1.+0.j  0.+0.j]\n",
      " [ 0.+0.j  0.+0.j  0.+0.j  1.+0.j]\n",
      " [-1.+0.j -0.+0.j  0.+0.j  0.+0.j]\n",
      " [-0.+0.j -1.+0.j  0.+0.j  0.+0.j]]\n",
      "Gamma_3 = \n",
      "[[ 0.+0.j  0.+0.j  0.+0.j  1.+0.j]\n",
      " [-0.+0.j  0.+0.j -1.+0.j  0.+0.j]\n",
      " [ 0.+0.j  1.+0.j  0.+0.j  0.+0.j]\n",
      " [-1.+0.j  0.+0.j -0.+0.j  0.+0.j]]\n",
      "\n",
      "\n",
      "The chirality operator is:\n",
      "matrix([[0.+0.j, 0.+0.j, 0.+0.j, 1.+0.j],\n",
      "        [0.+0.j, 0.+0.j, 1.+0.j, 0.+0.j],\n",
      "        [0.+0.j, 1.+0.j, 0.+0.j, 0.+0.j],\n",
      "        [1.+0.j, 0.+0.j, 0.+0.j, 0.+0.j]])\n"
     ]
    }
   ],
   "source": [
    "cliff13 =Clifford(1,3)\n",
    "cliff13.introduce()"
   ]
  },
  {
   "cell_type": "code",
   "execution_count": 5,
   "metadata": {},
   "outputs": [],
   "source": [
    "gamma0 = cliff13.generators[0]\n",
    "gamma1 = cliff13.generators[1]\n",
    "gamma2 = cliff13.generators[2]\n",
    "gamma3 = cliff13.generators[3]\n",
    "chirality13 = cliff13.chirality"
   ]
  },
  {
   "cell_type": "code",
   "execution_count": 6,
   "metadata": {},
   "outputs": [
    {
     "name": "stdout",
     "output_type": "stream",
     "text": [
      "matrix([[ True,  True,  True,  True],\n",
      "        [ True,  True,  True,  True],\n",
      "        [ True,  True,  True,  True],\n",
      "        [ True,  True,  True,  True]])\n",
      "matrix([[ True,  True,  True,  True],\n",
      "        [ True,  True,  True,  True],\n",
      "        [ True,  True,  True,  True],\n",
      "        [ True,  True,  True,  True]])\n",
      "matrix([[ True,  True,  True,  True],\n",
      "        [ True,  True,  True,  True],\n",
      "        [ True,  True,  True,  True],\n",
      "        [ True,  True,  True,  True]])\n",
      "matrix([[ True,  True,  True,  True],\n",
      "        [ True,  True,  True,  True],\n",
      "        [ True,  True,  True,  True],\n",
      "        [ True,  True,  True,  True]])\n",
      "matrix([[ True,  True,  True,  True],\n",
      "        [ True,  True,  True,  True],\n",
      "        [ True,  True,  True,  True],\n",
      "        [ True,  True,  True,  True]])\n"
     ]
    }
   ],
   "source": [
    "pprint(np.dot(gamma0,gamma0)+np.dot(gamma0,gamma0)==2*np.identity(4))\n",
    "pprint(np.dot(gamma1,gamma1)+np.dot(gamma1,gamma1)==-2*np.identity(4))\n",
    "pprint(np.dot(gamma2,gamma2)+np.dot(gamma2,gamma2)==-2*np.identity(4))\n",
    "pprint(np.dot(gamma3,gamma3)+np.dot(gamma3,gamma3)==-2*np.identity(4))\n",
    "pprint(chirality13*chirality13==np.identity(4))"
   ]
  },
  {
   "cell_type": "code",
   "execution_count": 7,
   "metadata": {},
   "outputs": [],
   "source": [
    "pauli = Clifford(3,0)"
   ]
  },
  {
   "cell_type": "code",
   "execution_count": 8,
   "metadata": {},
   "outputs": [
    {
     "name": "stdout",
     "output_type": "stream",
     "text": [
      "My type is: (3,0)\n",
      "\n",
      "My matrices will be 2x2, and I have K0 dimension s = 5\n",
      "The generators are:\n",
      "pauli.x = \n",
      "matrix([[0., 1.],\n",
      "        [1., 0.]])\n",
      "pauli.y = \n",
      "matrix([[0.+0.j, 0.-1.j],\n",
      "        [0.+1.j, 0.+0.j]])\n",
      "pauli.z = \n",
      "matrix([[ 1.,  0.],\n",
      "        [ 0., -1.]])\n",
      "\n",
      "\n",
      "The chirality operator is:\n",
      "matrix([[-1.+0.j,  0.+0.j],\n",
      "        [ 0.+0.j, -1.+0.j]])\n"
     ]
    }
   ],
   "source": [
    "pauli.introduce()"
   ]
  },
  {
   "cell_type": "code",
   "execution_count": null,
   "metadata": {},
   "outputs": [],
   "source": []
  }
 ],
 "metadata": {
  "kernelspec": {
   "display_name": "Python 3",
   "language": "python",
   "name": "python3"
  },
  "language_info": {
   "codemirror_mode": {
    "name": "ipython",
    "version": 3
   },
   "file_extension": ".py",
   "mimetype": "text/x-python",
   "name": "python",
   "nbconvert_exporter": "python",
   "pygments_lexer": "ipython3",
   "version": "3.7.7"
  }
 },
 "nbformat": 4,
 "nbformat_minor": 4
}
